{
 "cells": [
  {
   "cell_type": "code",
   "execution_count": null,
   "metadata": {},
   "outputs": [],
   "source": [
    "from simple_parsing.helpers import Serializable\n",
    "from dataclasses import dataclass\n",
    "\n",
    "@dataclass\n",
    "class Person(Serializable):\n",
    "    name: str = \"Bob\"\n",
    "    age: int = 20\n",
    "\n",
    "@dataclass\n",
    "class Student(Person):\n",
    "    domain: str = \"Computer Science\"\n",
    "    average_grade: float = 0.80\n"
   ]
  },
  {
   "cell_type": "code",
   "execution_count": null,
   "metadata": {
    "tags": []
   },
   "outputs": [],
   "source": [
    "\n",
    "# Serialization:\n",
    "# We can dump to yaml or json:\n",
    "charlie = Person(name=\"Charlie\")\n",
    "print(charlie.dumps_yaml())\n",
    "print(charlie.dumps_json())\n",
    "print(charlie.dumps()) # JSON by default"
   ]
  },
  {
   "cell_type": "code",
   "execution_count": null,
   "metadata": {
    "tags": []
   },
   "outputs": [],
   "source": [
    "# Deserialization:\n",
    "bob = Student()\n",
    "bob.save(\"bob.yaml\")\n",
    "bob.save(\"bob.json\")\n",
    "# Can load a Student from the base class: this will use the first subclass\n",
    "# that has all the required fields.\n",
    "_bob = Person.load(\"bob.yaml\", drop_extra_fields=False)\n",
    "assert isinstance(_bob, Student), _bob\n",
    "assert _bob == bob"
   ]
  },
  {
   "cell_type": "code",
   "execution_count": null,
   "metadata": {},
   "outputs": [],
   "source": []
  }
 ],
 "metadata": {
  "kernelspec": {
   "display_name": "Python 3",
   "name": "python3"
  },
  "language_info": {
   "codemirror_mode": {
    "name": "ipython",
    "version": 3
   },
   "file_extension": ".py",
   "mimetype": "text/x-python",
   "name": "python",
   "nbconvert_exporter": "python",
   "pygments_lexer": "ipython3",
   "version": "3.6.10-final"
  }
 },
 "nbformat": 4,
 "nbformat_minor": 2
}
